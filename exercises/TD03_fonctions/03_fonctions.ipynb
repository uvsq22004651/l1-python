{
 "cells": [
  {
   "cell_type": "markdown",
   "metadata": {},
   "source": [
    "# Instructions Générales\n",
    "\n",
    "Ce TD est à faire en créant un fichier td3.py, que vous éditerez dans VSCode. \n",
    "Vous ne remplirez pas les cellules de ce notebook, mais vous les copierez au fur et à mesure \n",
    "dans votre fichier pour les compléter.\n",
    "\n",
    "Vous respecterez au mieux les règles d'écriture de code, en particulier chaque fonction devra avoir un **docstring** et des commentaires si nécessaire et les noms de variable seront illustratifs de leur usage. Vous utiliserez les outils de débogage (flake8, mypy, debugger, pythontutor ...) pour corriger vos bogues."
   ]
  },
  {
   "cell_type": "markdown",
   "metadata": {},
   "source": [
    "# Gestion du temps\n",
    "\n",
    "Nous allons créer un petit logiciel de gestion du temps et des dates.\n",
    "Pour cela nous aurons besoin de créer un certain nombre de fonctions utilitaires.\n",
    "\n",
    "Un temps a le format suivant: (jour: int, heure: int, minute: int, seconde: int).\n",
    "C'est un tuple de 4 éléments. Par exemple (4, 3, 13, 20) correspond à 4 jours, 3 heures, 13 minutes et 20 secondes.\n",
    "Si on a une variable temps = (4, 3, 13, 20), pour accéder au premier élément on fait temps\\[0\\] ce qui donne 4,\n",
    "le nombre de jours.\n",
    "\n",
    "Créer la fonction qui prend comme argument le temps et renvoie le nombre de seconde total correspondant à ce temps.\n",
    "Créer la fonction qui prend un nombre de secondes et renvoie le temps correspondant."
   ]
  },
  {
   "cell_type": "code",
   "execution_count": 86,
   "metadata": {},
   "outputs": [
    {
     "output_type": "stream",
     "name": "stdout",
     "text": [
      "137236\n"
     ]
    }
   ],
   "source": [
    "#temps[0] : jours, temps[1]: minutes, temps[2]: minutes, temps[3]: secondes\n",
    "\n",
    "def tempsEnSeconde(temps): \n",
    "    \"\"\" Renvoie la valeur en seconde de temps donné comme jour, heure, minute, seconde.\"\"\"\n",
    "\n",
    "    nombre_de_jour = temps[0] * 24 * 60 * 60\n",
    "    nombre_dheure = temps[1] * 60 * 60\n",
    "    nombre_de_minute = temps[2] * 60\n",
    "    nombre_de_seconde = temps[3]\n",
    "    return (nombre_de_jour + nombre_dheure + nombre_de_minute + nombre_de_seconde)\n",
    "\n",
    "print(tempsEnSeconde((1, 14, 7, 16)))\n",
    "    continue \n"
   ]
  },
  {
   "cell_type": "code",
   "execution_count": 2,
   "metadata": {},
   "outputs": [
    {
     "output_type": "execute_result",
     "data": {
      "text/plain": [
       "{'a', 'i', 'n', 's', 'y'}"
      ]
     },
     "metadata": {},
     "execution_count": 2
    }
   ],
   "source": [
    "s = set(\"yannis\")\n",
    "s\n",
    "\n"
   ]
  },
  {
   "cell_type": "code",
   "execution_count": 4,
   "metadata": {},
   "outputs": [
    {
     "output_type": "error",
     "ename": "SyntaxError",
     "evalue": "unexpected EOF while parsing (<ipython-input-4-641ba8306d6f>, line 5)",
     "traceback": [
      "\u001b[1;36m  File \u001b[1;32m\"<ipython-input-4-641ba8306d6f>\"\u001b[1;36m, line \u001b[1;32m5\u001b[0m\n\u001b[1;33m    print(information(prenom = \"Tom\", nom)\u001b[0m\n\u001b[1;37m                                           ^\u001b[0m\n\u001b[1;31mSyntaxError\u001b[0m\u001b[1;31m:\u001b[0m unexpected EOF while parsing\n"
     ]
    }
   ],
   "source": [
    "def information(nom = \"Dupont\", prenom, ville = \"Paris\"):\n",
    "     \"\"\"Fonction qui permet d'afficher le nom, prenom et la ville d'une personne.\"\"\"\n",
    "     return(nom, prenom, ville)\n",
    "\n",
    "print(information(prenom = \"Tom\", nom) "
   ]
  },
  {
   "cell_type": "code",
   "execution_count": 38,
   "metadata": {},
   "outputs": [
    {
     "output_type": "stream",
     "name": "stdout",
     "text": [
      "21\ncap\népée\nbouclier\ncasque\nlance\n"
     ]
    }
   ],
   "source": [
    "def calcluer_somme(nombre1 , nombre2):\n",
    "    resultat = nombre1 + nombre2\n",
    "    return resultat\n",
    "print(calcluer_somme(5, 16))  \n",
    "\n",
    "def inventaire(*liste_item):\n",
    "    for item in liste_item:\n",
    "        print(item)\n",
    "inventaire(\"cap\", \"épée\", \"bouclier\", \"casque\", \"lance\")        \n"
   ]
  },
  {
   "cell_type": "code",
   "execution_count": 6,
   "metadata": {},
   "outputs": [
    {
     "output_type": "stream",
     "name": "stdout",
     "text": [
      "(11, 13, 46, 46)\n"
     ]
    }
   ],
   "source": [
    "#temps[0] : jours, temps[1]: minutes, temps[2]: minutes, temps[3]: secondes\n",
    "def secondeEnTemps(seconde):\n",
    "    \"\"\"Renvoie le temps (jour, heure, minute, seconde) qui correspond au nombre de seconde passé en argument\"\"\"\n",
    "\n",
    "    seconde_en_jour = seconde // 86400\n",
    "    seconde_en_heure = (seconde % 86400) // 3600\n",
    "\n",
    "    minutes = seconde % 86400\n",
    "    seconde_en_minute = (minutes % 3600) // 60\n",
    "\n",
    "    secondes = seconde_en_minute % 60\n",
    "\n",
    "    return(seconde_en_jour, seconde_en_heure, seconde_en_minute, secondes)\n",
    "\n",
    "print(secondeEnTemps(1000000))\n",
    "\n"
   ]
  },
  {
   "cell_type": "code",
   "execution_count": 82,
   "metadata": {},
   "outputs": [
    {
     "output_type": "stream",
     "name": "stdout",
     "text": [
      "Vous pouvez rentrer !\n"
     ]
    },
    {
     "output_type": "execute_result",
     "data": {
      "text/plain": [
       "78"
      ]
     },
     "metadata": {},
     "execution_count": 82
    }
   ],
   "source": [
    "def avez_vous_l_age(age):\n",
    "    \"\"\"Si vous avez 18 ans ou plus, vous pouvez rentrer, sinon vous ne rentrez pas.\"\"\"\n",
    "    age = int(input(\"Qu'elle âge avez-vous ?\"))\n",
    "    if age >= 18:\n",
    "        print(\"Vous pouvez rentrer !\")\n",
    "    else :\n",
    "        print(\"Vous ne pouvez pas rentrer !\")\n",
    "    return(age)\n",
    "avez_vous_l_age(56)    "
   ]
  },
  {
   "cell_type": "markdown",
   "metadata": {},
   "source": [
    "Créer une fonction d'affichage d'un temps `afficheTemps`. Attention, les mots jour, heure et seconde doivent être au pluriel s'il y en a plusieurs. S'il y en a zéro, ils ne doivent pas apparaître.\n",
    "`print(message, end=\"\")` permet de ne pas sauter une ligne après un print. \n",
    "Vous pouvez écrire une fonction qui affiche un mot au pluriel ou non, appelée ensuite plusieurs fois par `afficheTemps` pour simplifier votre code.\n"
   ]
  },
  {
   "cell_type": "code",
   "execution_count": 76,
   "metadata": {},
   "outputs": [
    {
     "output_type": "stream",
     "name": "stdout",
     "text": [
      "Le temps est égal à 6 jours 7 heures 58 minutes et 16 secondes.\n"
     ]
    },
    {
     "output_type": "execute_result",
     "data": {
      "text/plain": [
       "(6, 7, 58, 16)"
      ]
     },
     "metadata": {},
     "execution_count": 76
    }
   ],
   "source": [
    "#fonction auxiliaire ici\n",
    "\n",
    "def afficheTemps(temps):\n",
    "    \"\"\" Afficher un temps avec les mots jours, heures, minutes et secondes, s'il y en a zéro ils n'apparraissent pas et s'il y en a plusieurs       ils doivent être aux pluriels\"\"\"\n",
    "    \n",
    "    if temps[0] == 0 :\n",
    "        print(\"Le temps est égal à\", end=\"\")\n",
    "    elif temps[0] == 1 :\n",
    "        print(\"Le temps est égal à\",  temps[0], \"jour \", end=\"\")\n",
    "    elif temps[0] > 1 : \n",
    "        print(\"Le temps est égal à\", temps[0], \"jours \", end=\"\")\n",
    "\n",
    "    if temps[1] == 0 :\n",
    "        print(\"\", end=\"\")\n",
    "    elif temps[1] == 1 :\n",
    "        print( temps[1], \"heure \", end=\"\")\n",
    "    elif temps[1] > 1 :\n",
    "        print( temps[1], \"heures \", end=\"\")\n",
    "\n",
    "    if temps[2] == 0 :\n",
    "        print(\"\", end=\"\") \n",
    "    elif temps[2] == 1 :\n",
    "        print(temps[2], \"minute et \", end=\"\")\n",
    "    elif temps[2] > 1 :\n",
    "        print(temps[2], \"minutes et \", end=\"\")\n",
    "\n",
    "    if temps[3] == 0 :\n",
    "        print(\".\")\n",
    "    elif temps[3] == 1 :\n",
    "        print(temps[3], \"seconde.\")\n",
    "    elif temps[3] > 1 :\n",
    "        print(temps[3], \"secondes.\")\n",
    "        return(temps[0], temps[1], temps[2], temps[3])\n",
    "\n",
    "afficheTemps((6, 7, 58, 16))"
   ]
  },
  {
   "cell_type": "markdown",
   "metadata": {},
   "source": [
    "Ecrire une fonction qui demande à l'utilisateur de rentrer un nombre de jours, d'heures, de minutes et\n",
    "de secondes et qui renvoie un temps. Attention, si l'entrée utilisateur n'est pas correcte, par exemple 80 minutes,\n",
    "afficher un message d'erreur et s'arrêter.\n",
    "\n",
    "(Optionnel) Au lieu d'arêter le programme, demander de rentrer une nouvelle valeur, tant que \n",
    "ce n'est pas une valeur correcte."
   ]
  },
  {
   "cell_type": "code",
   "execution_count": 70,
   "metadata": {
    "tags": []
   },
   "outputs": [
    {
     "output_type": "execute_result",
     "data": {
      "text/plain": [
       "(9, 8, 4, 1)"
      ]
     },
     "metadata": {},
     "execution_count": 70
    }
   ],
   "source": [
    "def demandeTemps():\n",
    "    \"\"\"Demander à l'utilisateur de rentrer un nombre de jours, d'heures, de minutes et de secondes.\"\"\"\n",
    "\n",
    "    temps1 = int(input(\"Donner un nombre de jours\"))\n",
    "    temps2 = int(input(\"Donner un nombre de d'heures\"))\n",
    "    while temps2 > 24 :\n",
    "        print(\"ERREUR !!\")\n",
    "        temps2 = int(input(\"Donner un nombre de d'heures\")) \n",
    "    \n",
    "    temps3 = int(input(\"Donner un nombre de minutes\"))\n",
    "    while temps3 > 60 :\n",
    "        print(\"ERREUR !!\")\n",
    "        temps3 = int(input(\"Donner un nombre de minutes\"))\n",
    " \n",
    "    temps4 = int(input(\"Donner un nombre de secondes\"))\n",
    "    while temps4 > 60 :\n",
    "        print(\"ERREUR !!\")\n",
    "        temps4 = int(input(\"Donner un nombre de secondes\"))\n",
    "    return(temps1, temps2, temps3, temps4)\n",
    "demandeTemps()        \n",
    "\n"
   ]
  },
  {
   "cell_type": "markdown",
   "metadata": {},
   "source": [
    "On veut être capable d'additionner deux temps. Donner une fonction qui fait ce calcul,\n",
    "en utilisant les fonctions précédentes."
   ]
  },
  {
   "cell_type": "code",
   "execution_count": 60,
   "metadata": {},
   "outputs": [
    {
     "output_type": "execute_result",
     "data": {
      "text/plain": [
       "(10, 21, 3, 10)"
      ]
     },
     "metadata": {},
     "execution_count": 60
    }
   ],
   "source": [
    "def sommeTemps(temps1,temps2):\n",
    "    \"\"\"Additionner deux temps\"\"\"\n",
    "\n",
    "    temps30 = temps1[0] + temps2[0]\n",
    "\n",
    "    temps31 = temps1[1] + temps2[1]\n",
    "    if temps31 > 24 :\n",
    "        temps30 = temps30 + 1\n",
    "        temps31 = temps31 - 24\n",
    "\n",
    "    temps32 = temps1[2] + temps2[2]\n",
    "    if temps32 > 60 :\n",
    "        temps31 = temps31 + 1\n",
    "        temps32 = temps32 - 60\n",
    "\n",
    "    temps33 = temps1[3] + temps2[3]\n",
    "    if temps33 > 60 :\n",
    "        temps32 = temps32 + 1\n",
    "        temps33 = temps33 - 60\n",
    "    return(temps30, temps31, temps32, temps33)\n",
    "sommeTemps((3, 5, 8, 56), (7, 15, 54, 14))        \n"
   ]
  },
  {
   "cell_type": "markdown",
   "metadata": {},
   "source": [
    "On veut maintenant calculer un pourcentage d'un temps. Par exemple, 20% de\n",
    "2 jours et 36 minutes correspond à 9 heures, 43 minutes et 12 secondes.\n",
    "\n",
    "Implémenter la fonction `proportionTemps` puis appeler cette fonction en échangeant l'ordre des arguments mais en les nommant."
   ]
  },
  {
   "cell_type": "code",
   "execution_count": 56,
   "metadata": {},
   "outputs": [
    {
     "output_type": "execute_result",
     "data": {
      "text/plain": [
       "(6.0, 8.0, 0.0, 0.0)"
      ]
     },
     "metadata": {},
     "execution_count": 56
    }
   ],
   "source": [
    "def proportionTemps(temps, proportion):\n",
    "    \"\"\"Retirer 80% du temps donner\"\"\"\n",
    "\n",
    "#appeler la fonction en échangeant l'ordre des arguments\n",
    "    jours = temps[0]*24*60*60\n",
    "    heures = temps[1]*60*60\n",
    "    minutes = temps[2]*60\n",
    "    secondes = temps[3]\n",
    "    \n",
    "    full_secondes = jours + heures + minutes + secondes\n",
    "    proportion_secondes = full_secondes * proportion\n",
    "\n",
    "    temps1 = proportion_secondes // 86400\n",
    "    temps2 = proportion_secondes % 86400\n",
    "\n",
    "    temps3 = temps2 // 3600\n",
    "    temps4 = temps3 % 3600\n",
    "\n",
    "    temps5 = temps4 // 60\n",
    "    temps6 = temps5 % 60\n",
    "    return (temps1, temps3, temps5, temps6)\n",
    "proportionTemps((7, 1, 34, 18),0.9)   \n",
    "\n"
   ]
  },
  {
   "cell_type": "markdown",
   "metadata": {},
   "source": [
    "On veut maintenant afficher un temps sous forme de date, en supposant \n",
    "que le temps 0 est le 1 janvier 1970 à 00:00:00.\n",
    "\n",
    "* Implémenter une fonction `tempsEnDate`qui donne la date sous la forme (année, jour, heure, minute, seconde).\n",
    "* Implémenter la fonction `afficheDate`qui affiche la date. \n",
    "* (Optionnel) Gérer également les mois."
   ]
  },
  {
   "cell_type": "code",
   "execution_count": 93,
   "metadata": {},
   "outputs": [
    {
     "output_type": "error",
     "ename": "UnboundLocalError",
     "evalue": "local variable 'jours' referenced before assignment",
     "traceback": [
      "\u001b[1;31m---------------------------------------------------------------------------\u001b[0m",
      "\u001b[1;31mUnboundLocalError\u001b[0m                         Traceback (most recent call last)",
      "\u001b[1;32m<ipython-input-93-5bf929f08bde>\u001b[0m in \u001b[0;36m<module>\u001b[1;34m\u001b[0m\n\u001b[0;32m      6\u001b[0m     \u001b[0mjours\u001b[0m \u001b[1;33m=\u001b[0m \u001b[0mjours\u001b[0m \u001b[1;33m%\u001b[0m \u001b[1;36m365\u001b[0m\u001b[1;33m\u001b[0m\u001b[1;33m\u001b[0m\u001b[0m\n\u001b[0;32m      7\u001b[0m     \u001b[1;32mreturn\u001b[0m \u001b[1;33m(\u001b[0m\u001b[0mannées\u001b[0m\u001b[1;33m,\u001b[0m \u001b[0mjours\u001b[0m\u001b[1;33m,\u001b[0m \u001b[0mheures\u001b[0m\u001b[1;33m,\u001b[0m \u001b[0mminutes\u001b[0m\u001b[1;33m,\u001b[0m \u001b[0msecondes\u001b[0m\u001b[1;33m)\u001b[0m\u001b[1;33m\u001b[0m\u001b[1;33m\u001b[0m\u001b[0m\n\u001b[1;32m----> 8\u001b[1;33m \u001b[0mtempsEnDate\u001b[0m\u001b[1;33m(\u001b[0m\u001b[1;36m10000\u001b[0m\u001b[1;33m)\u001b[0m\u001b[1;33m\u001b[0m\u001b[1;33m\u001b[0m\u001b[0m\n\u001b[0m\u001b[0;32m      9\u001b[0m \u001b[1;33m\u001b[0m\u001b[0m\n\u001b[0;32m     10\u001b[0m \u001b[1;32mdef\u001b[0m \u001b[0mafficherDate\u001b[0m\u001b[1;33m(\u001b[0m\u001b[0mdate\u001b[0m \u001b[1;33m=\u001b[0m \u001b[1;33m-\u001b[0m\u001b[1;36m1\u001b[0m\u001b[1;33m)\u001b[0m \u001b[1;33m:\u001b[0m\u001b[1;33m\u001b[0m\u001b[1;33m\u001b[0m\u001b[0m\n",
      "\u001b[1;32m<ipython-input-93-5bf929f08bde>\u001b[0m in \u001b[0;36mtempsEnDate\u001b[1;34m(temps)\u001b[0m\n\u001b[0;32m      2\u001b[0m     \u001b[1;34m\"\"\"Affichage du temps sous la forme de date.\"\"\"\u001b[0m\u001b[1;33m\u001b[0m\u001b[1;33m\u001b[0m\u001b[0m\n\u001b[0;32m      3\u001b[0m \u001b[1;33m\u001b[0m\u001b[0m\n\u001b[1;32m----> 4\u001b[1;33m     \u001b[0mtemps\u001b[0m \u001b[1;33m=\u001b[0m \u001b[0mjours\u001b[0m\u001b[1;33m,\u001b[0m \u001b[0mheures\u001b[0m\u001b[1;33m,\u001b[0m \u001b[0mminutes\u001b[0m\u001b[1;33m,\u001b[0m \u001b[0msecondes\u001b[0m\u001b[1;33m\u001b[0m\u001b[1;33m\u001b[0m\u001b[0m\n\u001b[0m\u001b[0;32m      5\u001b[0m     \u001b[0mannées\u001b[0m \u001b[1;33m=\u001b[0m \u001b[1;36m1970\u001b[0m \u001b[1;33m+\u001b[0m \u001b[0mjours\u001b[0m \u001b[1;33m//\u001b[0m \u001b[1;36m365\u001b[0m\u001b[1;33m\u001b[0m\u001b[1;33m\u001b[0m\u001b[0m\n\u001b[0;32m      6\u001b[0m     \u001b[0mjours\u001b[0m \u001b[1;33m=\u001b[0m \u001b[0mjours\u001b[0m \u001b[1;33m%\u001b[0m \u001b[1;36m365\u001b[0m\u001b[1;33m\u001b[0m\u001b[1;33m\u001b[0m\u001b[0m\n",
      "\u001b[1;31mUnboundLocalError\u001b[0m: local variable 'jours' referenced before assignment"
     ]
    }
   ],
   "source": [
    "def tempsEnDate(temps):\n",
    "    \"\"\"Affichage du temps sous la forme de date.\"\"\"\n",
    "\n",
    "    temps = jours, heures, minutes, secondes\n",
    "    années = 1970 + jours // 365\n",
    "    jours = jours % 365\n",
    "    return (années, jours, heures, minutes, secondes)\n",
    "tempsEnDate(10000)    \n",
    "\n",
    "def afficherDate(date = -1) :\n",
    "    années, jours, heures, minutes, secondes = date\n",
    "    print(années, end=' ')\n",
    "    afficheTemps((jours, heures, minutes, secondes))\n",
    "    \n",
    "\n",
    "\n",
    "\n"
   ]
  },
  {
   "cell_type": "code",
   "execution_count": null,
   "metadata": {},
   "outputs": [],
   "source": [
    "\n",
    "def afficheDate(date = -1):\n",
    "    pass\n",
    "    \n",
    "\n",
    "afficheTemps(temps)\n",
    "afficheDate(tempsEnDate(temps))\n",
    "afficheDate()"
   ]
  },
  {
   "cell_type": "markdown",
   "metadata": {},
   "source": [
    "Il existe des fonctions dans la librairie `time` pour la gestion du temps. En particulier, il existe\n",
    "une fonction `time` qui donne le temps écoulé depuis 1970 en secondes. \n",
    "La trouver avec la [documentation python](https://docs.python.org/fr/3/library/time.html#module-time) et la tester en utilisant `afficheDate`. \n",
    "Tester de la même manière la fonction `time.gmtime` qui réalise une tâche similaire à `tempsEnDate`.\n",
    "Que constatez vous ?"
   ]
  },
  {
   "cell_type": "code",
   "execution_count": 89,
   "metadata": {},
   "outputs": [
    {
     "output_type": "stream",
     "name": "stdout",
     "text": [
      "1605910304.5214653\ntime.struct_time(tm_year=2020, tm_mon=11, tm_mday=20, tm_hour=22, tm_min=11, tm_sec=44, tm_wday=4, tm_yday=325, tm_isdst=0)\n"
     ]
    }
   ],
   "source": [
    "#tester ici les fonctions de la librairie time\n",
    "def afficheDate(time) :\n",
    "    \"\"\" Utliser la fonction time pour voir le temps écoulé depuis 1970.\"\"\"\n",
    "import time \n",
    "print(time.time()) #donne le temps écoulé depuis 1/01/1970 00:00:00\n",
    "print(time.gmtime()) #donne la date du jour 00:00:00 "
   ]
  },
  {
   "cell_type": "markdown",
   "metadata": {},
   "source": [
    "Attention, tous les 4 ans les années sont bisextiles (un jour de plus) sauf les multiples de 100 qui ne sont pas des multiples de 400.\n",
    "Donner un code qui prend un nombre de jours et affiche toutes les années bisextiles depuis 1 janvier 2020 à 00:00:00 jusqu'à la fin de ces jours."
   ]
  },
  {
   "cell_type": "code",
   "execution_count": 153,
   "metadata": {
    "tags": []
   },
   "outputs": [
    {
     "output_type": "stream",
     "name": "stdout",
     "text": [
      "2020 est bisextile\n2020 est bisextile\n2020 est bisextile\n"
     ]
    },
    {
     "output_type": "execute_result",
     "data": {
      "text/plain": [
       "(2020, -95)"
      ]
     },
     "metadata": {},
     "execution_count": 153
    }
   ],
   "source": [
    "\n",
    "def bisextile(jour):\n",
    "    \"\"\"Code permettant d'afficher toutes les années bisextilles depuis 1 janvier 2020 00:00:00 sur un nombre de jours donné.\"\"\"    \n",
    "    année = 2020\n",
    "    while jour >= 0:\n",
    "        if année % 4 == 0 and (année % 100 != 0 or année % 400 != 0):\n",
    "            print(année, 'est bisextile') \n",
    "            jour -= 365\n",
    "        else :\n",
    "            jour -= 364\n",
    "            année += 1\n",
    "    return année, jour\n",
    "bisextile(1000)"
   ]
  },
  {
   "cell_type": "markdown",
   "metadata": {},
   "source": [
    "Implémenter une fonction `nombreBisextile` qui calcule le nombre d'années bisextiles pour un nombre de jour donnés pour corriger votre fonction de calcul de la date."
   ]
  },
  {
   "cell_type": "code",
   "execution_count": 139,
   "metadata": {},
   "outputs": [
    {
     "output_type": "execute_result",
     "data": {
      "text/plain": [
       "2740"
      ]
     },
     "metadata": {},
     "execution_count": 139
    }
   ],
   "source": [
    "def nombrebisextile(jour):\n",
    "    cp = 0\n",
    "    annee = 2020\n",
    "    while jour >= 0:\n",
    "        if annee % 4 == 0 and (annee % 100 != 0 or annee % 400 != 0):\n",
    "            cp += 1            \n",
    "            jour -= 365\n",
    "    else:\n",
    "        jour -= 364\n",
    "        annee += 1\n",
    "    return cp\n",
    "nombrebisextile(1000000)\n",
    "        \n"
   ]
  },
  {
   "cell_type": "code",
   "execution_count": null,
   "metadata": {},
   "outputs": [],
   "source": [
    "def tempsEnDateBisextile(temps):\n",
    "    pass\n",
    "   \n",
    "temps = secondeEnTemps(1000000000)\n",
    "afficheTemps(temps)\n",
    "afficheDate(tempsEnDateBisextile(temps))"
   ]
  },
  {
   "cell_type": "markdown",
   "metadata": {},
   "source": [
    "Ajouter des valeurs par défaut dans le code de `afficheDate` afin de pouvoir ommettre\n",
    "l'argument de ces fonctions. Dans ce cas là, on affichera la date actuelle en utilisant la fonction `time`."
   ]
  },
  {
   "cell_type": "markdown",
   "metadata": {},
   "source": [
    "On va maintenant inspecter notre code pour améliorer sa qualité:\n",
    "\n",
    "* Regarder tous les warnings donnés par flake8 et essayer de les régler.\n",
    "* Utiliser le debugger (F5) pour étudier le fonctionnement de votre fonction nombreBisextile.\n",
    "* Mettre les annotations de type des arguments et du retour de la fonction pour nombreBisextile et une autre fonction de votre choix. Vérifier avec mypy que tout fonctionne bien."
   ]
  },
  {
   "cell_type": "markdown",
   "metadata": {},
   "source": [
    "Donner une fonction qui vérifie la charge horaire d'un employé, donnée sous forme d'une liste de temps travaillé chaque semaine dans un mois. Il ne faut pas dépasser 48h par semaine et 140h par mois (qu'on considère ici de 4 semaines).\n",
    "\n",
    "(Optionnel) S'adapter à une liste qui peut contenir plusieurs mois."
   ]
  },
  {
   "cell_type": "code",
   "execution_count": 177,
   "metadata": {},
   "outputs": [
    {
     "output_type": "error",
     "ename": "SyntaxError",
     "evalue": "invalid syntax (<ipython-input-177-ba32cdd4bdd3>, line 9)",
     "traceback": [
      "\u001b[1;36m  File \u001b[1;32m\"<ipython-input-177-ba32cdd4bdd3>\"\u001b[1;36m, line \u001b[1;32m9\u001b[0m\n\u001b[1;33m    if semaine1 = int(liste_temps[0][0] + liste_temps[0][1] + liste_temps[0][2] + liste_temps[0][3] + liste_temps[0][4]) <= 48:\u001b[0m\n\u001b[1;37m                ^\u001b[0m\n\u001b[1;31mSyntaxError\u001b[0m\u001b[1;31m:\u001b[0m invalid syntax\n"
     ]
    }
   ],
   "source": [
    "  def verifie(liste_temps):\n",
    "    \"\"\"Vérifiez qu'un employé ne dépasse pas 48h de trvaille par semaine et 140h par mois.\"\"\"\n",
    "    semaine1 = 0\n",
    "    semaine2 = 0\n",
    "    semaine3 = 0\n",
    "    semaine4 = 0\n",
    "    mois = 0\n",
    "\n",
    "    if semaine1 = int(liste_temps[0][0] + liste_temps[0][1] + liste_temps[0][2] + liste_temps[0][3] + liste_temps[0][4]) <= 48:\n",
    "        print(\"Vous    avez bien travaillé la semaine 1 !\")\n",
    "    else :\n",
    "        print(\"Vous avez trop travaillé la semaine 1 !\")\n",
    "\n",
    "    if semaine2 = int(liste_temps[1][0] + liste_temps[1][1] + liste_temps[1][2] + liste_temps[1][3] + liste_temps[1][4]) <= 48:\n",
    "        print(\"Vous avez bien travaillé la semaine 2 !\")\n",
    "    else :\n",
    "        print(\"Vous avez bien travillé la semaine 1 !\")\n",
    "\n",
    "    if semaine3 = int(liste_temps[2][0] + liste_temps[2][1] + liste_temps[2][2] + liste_temps[2][3] + liste_temps[2][4]) <= 48:\n",
    "        print(\"Vous avez bien travaillé la semaine 2 !\")\n",
    "    else :\n",
    "        print(\"Vous avez bien travillé la semaine 1 !\")\n",
    "\n",
    "    if semaine4 = int(liste_temps[2][0] + liste_temps[3][1] + liste_temps[3][2] + liste_temps[3][3] + liste_temps[3][4]) <= 48:\n",
    "        print(\"Vous avez bien travaillé la semaine 2 !\")\n",
    "    else :\n",
    "        print(\"Vous avez bien travillé la semaine 1 !\")\n",
    "\n",
    "    if mois = int(semaine1 + semaine2 + semaine3 + semaine4) <= 192:\n",
    "        print(\"Vous avez bien travaillé ce moi-ci !\")\n",
    "    else :\n",
    "        print(\"Vous avez trop travaillé ce moi-ci !\")\n",
    "\n",
    "    return(semaine1, semaine2, semaine3, semaine4, mois)\n",
    "\n",
    "verifie((10, 8, 9, 14, 12), (15, 6, 7, 9, 8), (3, 15, 7, 11, 5), (12, 12, 5, 7, 8))    \n",
    "\n",
    "    \n"
   ]
  },
  {
   "cell_type": "code",
   "execution_count": null,
   "metadata": {},
   "outputs": [],
   "source": []
  }
 ],
 "metadata": {
  "kernelspec": {
   "display_name": "Python 3",
   "language": "python",
   "name": "python3"
  },
  "language_info": {
   "codemirror_mode": {
    "name": "ipython",
    "version": 3
   },
   "file_extension": ".py",
   "mimetype": "text/x-python",
   "name": "python",
   "nbconvert_exporter": "python",
   "pygments_lexer": "ipython3",
   "version": "3.8.3-final"
  }
 },
 "nbformat": 4,
 "nbformat_minor": 4
}